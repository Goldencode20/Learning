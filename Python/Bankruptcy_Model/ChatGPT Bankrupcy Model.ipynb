{
  "cells": [
    {
      "cell_type": "code",
      "execution_count": 1,
      "metadata": {
        "colab": {
          "base_uri": "https://localhost:8080/",
          "height": 38
        },
        "id": "X6wWAJcEcZba",
        "outputId": "62dd60ac-e76d-4707-823c-8a36c412bf34"
      },
      "outputs": [
        {
          "ename": "ModuleNotFoundError",
          "evalue": "No module named 'google.colab'",
          "output_type": "error",
          "traceback": [
            "\u001b[0;31m---------------------------------------------------------------------------\u001b[0m",
            "\u001b[0;31mModuleNotFoundError\u001b[0m                       Traceback (most recent call last)",
            "Cell \u001b[0;32mIn[1], line 3\u001b[0m\n\u001b[1;32m      1\u001b[0m \u001b[38;5;28;01mimport\u001b[39;00m \u001b[38;5;21;01mnumpy\u001b[39;00m \u001b[38;5;28;01mas\u001b[39;00m \u001b[38;5;21;01mnp\u001b[39;00m\n\u001b[1;32m      2\u001b[0m \u001b[38;5;28;01mimport\u001b[39;00m \u001b[38;5;21;01mpandas\u001b[39;00m \u001b[38;5;28;01mas\u001b[39;00m \u001b[38;5;21;01mpd\u001b[39;00m\n\u001b[0;32m----> 3\u001b[0m \u001b[38;5;28;01mfrom\u001b[39;00m \u001b[38;5;21;01mgoogle\u001b[39;00m\u001b[38;5;21;01m.\u001b[39;00m\u001b[38;5;21;01mcolab\u001b[39;00m \u001b[38;5;28;01mimport\u001b[39;00m files \u001b[38;5;66;03m#Set up the data points\u001b[39;00m\n\u001b[1;32m      4\u001b[0m uploaded \u001b[38;5;241m=\u001b[39m files\u001b[38;5;241m.\u001b[39mupload()\n\u001b[1;32m      5\u001b[0m \u001b[38;5;28;01mwith\u001b[39;00m \u001b[38;5;28mopen\u001b[39m(\u001b[38;5;124m'\u001b[39m\u001b[38;5;124mdata.csv\u001b[39m\u001b[38;5;124m'\u001b[39m, \u001b[38;5;124m'\u001b[39m\u001b[38;5;124mr\u001b[39m\u001b[38;5;124m'\u001b[39m) \u001b[38;5;28;01mas\u001b[39;00m file:\n",
            "\u001b[0;31mModuleNotFoundError\u001b[0m: No module named 'google.colab'"
          ]
        }
      ],
      "source": [
        "import numpy as np\n",
        "import pandas as pd\n",
        "from google.colab import files #Set up the data points\n",
        "uploaded = files.upload()\n",
        "with open('data.csv', 'r') as file:\n",
        "    data = pd.read_csv('data.csv', header = None)\n",
        "\n",
        "data = data.drop(0, axis=0)"
      ]
    },
    {
      "cell_type": "code",
      "execution_count": 16,
      "metadata": {
        "colab": {
          "base_uri": "https://localhost:8080/"
        },
        "id": "Obpoiblwg4O8",
        "outputId": "d8dad1b8-888a-4dd2-9f38-14300b007430"
      },
      "outputs": [
        {
          "name": "stdout",
          "output_type": "stream",
          "text": [
            "Accuracy: 0.9655425219941349\n"
          ]
        }
      ],
      "source": [
        "from sklearn.preprocessing import StandardScaler\n",
        "from sklearn.linear_model import LogisticRegression\n",
        "from sklearn.model_selection import train_test_split\n",
        "from sklearn.metrics import accuracy_score\n",
        "\n",
        "selected_features = data[[37, 33, 34, 31, 45, 48, 24, 25, 31, 13, 83, 1, 2, 3, 21, 42, 10, 36, 65, 66]]\n",
        "\n",
        "selected_features = selected_features.replace(np.nan,0,regex=True)\n",
        "selected_features = selected_features.astype(float)\n",
        "\n",
        "scaler = StandardScaler()\n",
        "standardized_features = scaler.fit_transform(selected_features)\n",
        "\n",
        "df_standardized = pd.DataFrame(standardized_features, columns=selected_features.columns)\n",
        "\n",
        "output = data[0]\n",
        "\n",
        "# Split the data into training and testing sets\n",
        "X_train, X_test, y_train, y_test = train_test_split(df_standardized, output, test_size=0.2, random_state=42)\n",
        "\n",
        "# Create and train the logistic regression model\n",
        "model = LogisticRegression()\n",
        "model.fit(X_train, y_train)\n",
        "\n",
        "# Make predictions on the test set\n",
        "y_pred = model.predict(X_test)\n",
        "\n",
        "# Evaluate the model's performance\n",
        "accuracy = accuracy_score(y_test, y_pred)\n",
        "print(\"Accuracy:\", accuracy)"
      ]
    },
    {
      "cell_type": "code",
      "execution_count": 17,
      "metadata": {
        "colab": {
          "base_uri": "https://localhost:8080/"
        },
        "id": "JATnlEgypKw0",
        "outputId": "1b136403-73d2-4091-9cd0-e052be61825b"
      },
      "outputs": [
        {
          "name": "stdout",
          "output_type": "stream",
          "text": [
            "Cross-validation scores:  [0.96994135 0.95307918 0.96774194 0.96774194 0.96918562]\n",
            "Mean CV score:  0.9655380037565917\n",
            "Standard deviation of CV scores:  0.006286994517582223\n"
          ]
        }
      ],
      "source": [
        "from sklearn.model_selection import cross_val_score\n",
        "\n",
        "\n",
        "# Create an instance of the logistic regression model\n",
        "logreg = LogisticRegression()\n",
        "\n",
        "# Perform 5-fold cross-validation\n",
        "cv_scores = cross_val_score(logreg, df_standardized, output, cv=5)\n",
        "\n",
        "# Print the cross-validation scores\n",
        "print(\"Cross-validation scores: \", cv_scores)\n",
        "\n",
        "# Calculate and print the mean and standard deviation of the cross-validation scores\n",
        "print(\"Mean CV score: \", np.mean(cv_scores))\n",
        "print(\"Standard deviation of CV scores: \", np.std(cv_scores))"
      ]
    },
    {
      "cell_type": "markdown",
      "metadata": {
        "id": "Y-U_HYhQesYk"
      },
      "source": [
        "I am doing a blind trust approach to ChatGPT. Even if I think that it is wrong I will do what it says to see what kind of ML model it will make. That will include some code that I have edited so that it works in my program.\n",
        "\n",
        "It started off with ChatGPT telling me to use these 7 metrics: Financial ratios, Growth indicators, Cash flow metrics, Credit-related features, Company size and age, Market indicators, and Accounting variables some of which has multiple use features so I will find the ones that match those sections. \n",
        "\n",
        "After that it wanted to preprocess the data and then it was ready to create the model and it was done. It's accuracy was 96%. When I askeed it to imporve the model it said to do cross validation which did not improve the model but did show that it was regular on it's output."
      ]
    },
    {
      "cell_type": "markdown",
      "metadata": {
        "id": "7x5-otEmcgt0"
      },
      "source": [
        "https://www.kaggle.com/datasets/fedesoriano/company-bankruptcy-prediction\n",
        "\n",
        "https://iu.instructure.com/courses/2117762/assignments/14741085"
      ]
    }
  ],
  "metadata": {
    "colab": {
      "provenance": []
    },
    "kernelspec": {
      "display_name": "Python 3",
      "name": "python3"
    },
    "language_info": {
      "codemirror_mode": {
        "name": "ipython",
        "version": 3
      },
      "file_extension": ".py",
      "mimetype": "text/x-python",
      "name": "python",
      "nbconvert_exporter": "python",
      "pygments_lexer": "ipython3",
      "version": "3.10.12"
    }
  },
  "nbformat": 4,
  "nbformat_minor": 0
}
